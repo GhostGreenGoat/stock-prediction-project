{
 "cells": [
  {
   "cell_type": "code",
   "execution_count": 2,
   "metadata": {},
   "outputs": [],
   "source": [
    "import numpy as np\n",
    "import os\n"
   ]
  },
  {
   "cell_type": "code",
   "execution_count": 5,
   "metadata": {},
   "outputs": [],
   "source": [
    "import numpy as np\n",
    "\n",
    "feature = np.random.rand(5, 1250, 5000)\n",
    "universe = np.random.rand(1250, 5000)\n",
    "universe = np.where(universe > 0.8, 0, 1)"
   ]
  },
  {
   "cell_type": "code",
   "execution_count": 17,
   "metadata": {},
   "outputs": [],
   "source": [
    "import numpy as np\n",
    "\n",
    "feature = np.random.rand(5, 1250, 5000)\n",
    "universe = np.random.rand(1250, 5000)\n",
    "universe = np.where(universe > 0.8, 0, 1)\n",
    "\n",
    "timestep = 10\n",
    "res = np.full(shape=(universe.shape[0], universe.shape[1], timestep), fill_value=-1, dtype=int)\n",
    "\n",
    "def main():\n",
    "    for di in range(timestep-1, universe.shape[0]):\n",
    "        ix = universe[di] == 1\n",
    "        for ii in range(universe.shape[1]):\n",
    "            if not ix[ii]:\n",
    "                res[di, ii] = res[di - 1, ii]\n",
    "            # 在前面universe不为0的日子中搜索该股票，找不到就保持-1\n",
    "            # 使用np.where查找universe中的非零值\n",
    "            idxs = np.where(universe[:di+1, ii] == 1)[0]\n",
    "            if len(idxs) > 0:\n",
    "                # 获取最近的`timestep`个非零值的日期\n",
    "                if len(idxs) >= timestep:\n",
    "                    recent_idxs = idxs[-timestep:]\n",
    "                else:\n",
    "                    recent_idxs = idxs[-len(idxs):]\n",
    "                res[di, ii, -len(recent_idxs):] = recent_idxs\n",
    "                # 更新res数组，如果recent_idxs长度小于timestep，则剩余部分保持-1                   \n",
    "    return res\n",
    "res = main()"
   ]
  },
  {
   "cell_type": "code",
   "execution_count": 27,
   "metadata": {},
   "outputs": [
    {
     "data": {
      "text/plain": [
       "(5, 5000)"
      ]
     },
     "execution_count": 27,
     "metadata": {},
     "output_type": "execute_result"
    }
   ],
   "source": [
    "di = 1000\n",
    "\n",
    "feature[:, di, :].shape"
   ]
  },
  {
   "cell_type": "code",
   "execution_count": 26,
   "metadata": {},
   "outputs": [
    {
     "data": {
      "text/plain": [
       "(5000, 10)"
      ]
     },
     "execution_count": 26,
     "metadata": {},
     "output_type": "execute_result"
    }
   ],
   "source": [
    "res[di, :, :].shape"
   ]
  },
  {
   "cell_type": "code",
   "execution_count": 21,
   "metadata": {},
   "outputs": [
    {
     "data": {
      "text/plain": [
       "array([1, 1, 1, 0, 1, 1, 1, 0, 1, 1, 1, 0, 1, 1, 0, 1, 1, 1, 0, 1])"
      ]
     },
     "execution_count": 21,
     "metadata": {},
     "output_type": "execute_result"
    }
   ],
   "source": [
    "universe[-20:, 2]"
   ]
  },
  {
   "cell_type": "code",
   "execution_count": 32,
   "metadata": {},
   "outputs": [],
   "source": [
    "def get_feature_slices_for_all_stocks(feature, res, di):\n",
    "    # 获取di对应的所有股票的日期索引\n",
    "    date_indices = res[di, :, :]\n",
    "    \n",
    "    # 初始化结果数组，形状为(feature_nums, ii, timestep)，默认值为0\n",
    "    feature_slices = np.zeros((feature.shape[0], feature.shape[2], timestep))\n",
    "    \n",
    "    # 对于每个时间步，进行向量化操作\n",
    "    for t in range(timestep):\n",
    "        # 获取当前时间步的日期索引\n",
    "        current_date_indices = date_indices[:, t]\n",
    "        \n",
    "        # 过滤掉值为-1的索引\n",
    "        valid_indices = current_date_indices != -1\n",
    "        \n",
    "        # 获取有效的日期索引和股票索引\n",
    "        valid_date_indices = current_date_indices[valid_indices]\n",
    "        valid_ii_indices = np.arange(len(valid_indices))[valid_indices]\n",
    "        \n",
    "        # 使用有效的日期索引和股票索引从feature中提取切片\n",
    "        feature_slices[:, valid_ii_indices, t] = feature[:, valid_date_indices, valid_ii_indices]\n",
    "        \n",
    "    return feature_slices\n",
    "\n",
    "# 测试函数\n",
    "di = 20  # 例子中的某个日期索引\n",
    "\n",
    "for di in range(universe.shape[0]):\n",
    "    feature_slices = get_feature_slices_for_all_stocks(feature, res, di)"
   ]
  },
  {
   "cell_type": "code",
   "execution_count": 31,
   "metadata": {},
   "outputs": [
    {
     "data": {
      "text/plain": [
       "array([[[8.34251540e-02, 1.16300614e-01, 4.89524770e-01, ...,\n",
       "         8.49415457e-01, 3.39766813e-01, 1.45574938e-01],\n",
       "        [4.97410976e-01, 3.94108145e-02, 2.27768511e-01, ...,\n",
       "         7.23426137e-01, 8.26877033e-01, 2.71769693e-01],\n",
       "        [2.93667247e-01, 5.89127745e-01, 2.07982266e-01, ...,\n",
       "         4.36392809e-01, 2.06354086e-01, 9.92089700e-01],\n",
       "        ...,\n",
       "        [8.09199095e-01, 7.57303927e-01, 6.74149034e-01, ...,\n",
       "         2.58585861e-01, 2.50219504e-01, 1.84966481e-01],\n",
       "        [6.87832439e-01, 6.09680448e-02, 9.07762950e-01, ...,\n",
       "         2.79824940e-01, 7.18229861e-01, 5.65848704e-01],\n",
       "        [5.43452331e-02, 9.25778507e-01, 5.75648155e-01, ...,\n",
       "         4.96651352e-01, 8.46122904e-01, 3.03510609e-01]],\n",
       "\n",
       "       [[4.23735799e-01, 3.86030163e-01, 7.39162073e-01, ...,\n",
       "         1.98505588e-01, 9.26125731e-01, 3.54386249e-01],\n",
       "        [1.35330940e-04, 4.25253431e-01, 3.06364628e-01, ...,\n",
       "         4.30008387e-01, 1.53800524e-01, 7.96258756e-01],\n",
       "        [8.01950391e-01, 8.53894514e-01, 8.47245125e-01, ...,\n",
       "         7.12428241e-01, 8.13612968e-01, 8.29808406e-01],\n",
       "        ...,\n",
       "        [3.46182814e-01, 1.46734509e-01, 4.11641778e-02, ...,\n",
       "         8.18900211e-01, 2.52523871e-01, 7.05024790e-01],\n",
       "        [9.00695681e-01, 5.51432838e-01, 8.33489812e-01, ...,\n",
       "         6.21852905e-02, 6.07929236e-01, 6.26876524e-01],\n",
       "        [3.87096183e-01, 2.45827699e-01, 6.73236552e-01, ...,\n",
       "         7.68378689e-01, 4.72597717e-01, 9.77051991e-01]],\n",
       "\n",
       "       [[7.91825654e-01, 8.66214205e-01, 6.90170867e-01, ...,\n",
       "         4.99612715e-01, 2.09169134e-01, 6.53460645e-01],\n",
       "        [4.61805905e-01, 5.37951317e-01, 8.02952759e-01, ...,\n",
       "         6.07128179e-01, 3.14911506e-01, 9.18778751e-01],\n",
       "        [3.13324600e-01, 4.94292655e-01, 7.57499514e-01, ...,\n",
       "         5.94167447e-01, 6.23534142e-01, 1.59402722e-01],\n",
       "        ...,\n",
       "        [9.65048336e-01, 9.46683193e-01, 4.92837457e-01, ...,\n",
       "         9.79828644e-01, 9.94638086e-01, 2.23756911e-01],\n",
       "        [6.75542459e-01, 3.67321695e-01, 8.27115940e-01, ...,\n",
       "         6.48013683e-01, 5.45961846e-01, 9.26393867e-01],\n",
       "        [4.87221378e-01, 4.61517959e-01, 5.38505926e-01, ...,\n",
       "         7.34589964e-01, 1.68461139e-02, 6.64833962e-01]],\n",
       "\n",
       "       [[8.92486311e-01, 8.28383127e-01, 4.61655510e-01, ...,\n",
       "         3.79828580e-01, 4.50766663e-01, 3.91502041e-01],\n",
       "        [8.42942160e-01, 2.00782338e-01, 6.98613518e-03, ...,\n",
       "         8.74574482e-01, 5.03239448e-01, 6.98458238e-01],\n",
       "        [5.24829693e-01, 9.30629508e-01, 5.25756100e-02, ...,\n",
       "         9.13270371e-01, 2.47369023e-01, 3.39550319e-01],\n",
       "        ...,\n",
       "        [3.12501960e-01, 8.25914326e-01, 7.92374615e-01, ...,\n",
       "         8.08441991e-01, 2.25853827e-01, 5.15183560e-01],\n",
       "        [3.70821376e-01, 7.74955614e-01, 5.72919400e-01, ...,\n",
       "         4.44074401e-01, 1.75126030e-01, 6.24275818e-01],\n",
       "        [5.61508885e-01, 7.81640096e-01, 6.84746157e-01, ...,\n",
       "         5.85333514e-01, 6.28834303e-01, 2.37530624e-01]],\n",
       "\n",
       "       [[4.53124284e-04, 9.97053454e-01, 8.38042209e-01, ...,\n",
       "         8.49555032e-01, 9.70981540e-01, 7.66193750e-02],\n",
       "        [8.62288227e-02, 5.23219690e-01, 3.57677109e-01, ...,\n",
       "         8.28792362e-01, 6.98938761e-01, 5.57239486e-01],\n",
       "        [9.23738503e-02, 7.75270540e-01, 2.57846487e-01, ...,\n",
       "         7.54388463e-01, 7.70086761e-02, 2.14717652e-01],\n",
       "        ...,\n",
       "        [3.93685345e-01, 5.33733615e-01, 2.19544441e-01, ...,\n",
       "         5.82574208e-01, 8.63584448e-01, 3.51229520e-01],\n",
       "        [1.59625703e-01, 8.14210089e-02, 8.21458526e-01, ...,\n",
       "         2.10746383e-01, 8.42335145e-01, 7.23293602e-01],\n",
       "        [6.28643824e-01, 7.11574466e-01, 7.43580543e-01, ...,\n",
       "         6.88622574e-01, 8.27920060e-01, 4.43300107e-01]]])"
      ]
     },
     "execution_count": 31,
     "metadata": {},
     "output_type": "execute_result"
    }
   ],
   "source": [
    "feature_slices"
   ]
  }
 ],
 "metadata": {
  "kernelspec": {
   "display_name": "base",
   "language": "python",
   "name": "python3"
  },
  "language_info": {
   "codemirror_mode": {
    "name": "ipython",
    "version": 3
   },
   "file_extension": ".py",
   "mimetype": "text/x-python",
   "name": "python",
   "nbconvert_exporter": "python",
   "pygments_lexer": "ipython3",
   "version": "3.9.12"
  },
  "orig_nbformat": 4
 },
 "nbformat": 4,
 "nbformat_minor": 2
}
